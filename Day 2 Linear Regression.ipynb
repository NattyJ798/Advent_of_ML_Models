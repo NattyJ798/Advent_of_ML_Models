{
 "cells": [
  {
   "cell_type": "markdown",
   "id": "86c9e404",
   "metadata": {},
   "source": [
    "#### Day 2\n",
    "\n",
    "\n",
    "Linear regression - the hammer of the statistics world. Eventually, I will show how to perform least squares with singular value decomposition but for now, we will use 1-2 different packages. For linear regression, the basic model is something like: \n",
    "\n",
    "$$ y = \\beta_0 + \\beta_1 \\cdot x$$\n",
    "\n",
    "where y is your response variable. $\\beta_0$ is your y-intercept. $x$ is your predictor. $\\beta_1$ is your predictor weight.\n",
    "\n",
    "Generally, there are a few assumptions we make. First, there is no multi-collinearity. Secondly, there is homoscedascity. Third, the data is randomly selected."
   ]
  },
  {
   "cell_type": "code",
   "execution_count": 33,
   "id": "513e5ff0",
   "metadata": {},
   "outputs": [],
   "source": [
    "import numpy as np\n",
    "import pandas as pd\n",
    "from sklearn.linear_model import LinearRegression\n",
    "from sklearn.model_selection import train_test_split\n",
    "from sklearn.metrics import mean_squared_error\n",
    "import seaborn as sns\n",
    "sns.set(context=\"notebook\", palette=\"Spectral\", style = 'darkgrid' ,font_scale = 1.5, color_codes=True)\n",
    "import warnings\n",
    "warnings.filterwarnings('ignore')\n",
    "import matplotlib.pyplot as plt"
   ]
  },
  {
   "cell_type": "code",
   "execution_count": 9,
   "id": "6d90b271",
   "metadata": {},
   "outputs": [],
   "source": [
    "data = np.random.rand(100,4)"
   ]
  },
  {
   "cell_type": "code",
   "execution_count": 10,
   "id": "de581ac8",
   "metadata": {},
   "outputs": [],
   "source": [
    "x = data[:,:3]\n",
    "y = data[:,3]"
   ]
  },
  {
   "cell_type": "code",
   "execution_count": 12,
   "id": "110ea9be",
   "metadata": {},
   "outputs": [],
   "source": [
    "test_size = 0.2\n",
    "X_train, X_test, y_train, y_test = train_test_split(x,y, test_size = test_size )"
   ]
  },
  {
   "cell_type": "code",
   "execution_count": 18,
   "id": "86e64b57",
   "metadata": {},
   "outputs": [],
   "source": [
    "reg = LinearRegression().fit(X_train, y_train)"
   ]
  },
  {
   "cell_type": "markdown",
   "id": "f876eccf",
   "metadata": {},
   "source": [
    "#### Calculating MSE in two ways"
   ]
  },
  {
   "cell_type": "code",
   "execution_count": 26,
   "id": "8cfa64ac",
   "metadata": {},
   "outputs": [],
   "source": [
    "y_pred = reg.predict(X_test)\n",
    "\n",
    "mse = (sum((y_pred - y_test)**2))/20\n",
    "\n",
    "mse2 = mean_squared_error(y_test, y_pred)"
   ]
  },
  {
   "cell_type": "code",
   "execution_count": 28,
   "id": "7a51f7c2",
   "metadata": {},
   "outputs": [
    {
     "data": {
      "text/plain": [
       "0.08552940287938245"
      ]
     },
     "execution_count": 28,
     "metadata": {},
     "output_type": "execute_result"
    }
   ],
   "source": [
    "mse"
   ]
  },
  {
   "cell_type": "code",
   "execution_count": 31,
   "id": "5e0b1a6d",
   "metadata": {},
   "outputs": [
    {
     "data": {
      "text/plain": [
       "0.08552940287938245"
      ]
     },
     "execution_count": 31,
     "metadata": {},
     "output_type": "execute_result"
    }
   ],
   "source": [
    "mse2"
   ]
  },
  {
   "cell_type": "markdown",
   "id": "f2676f37",
   "metadata": {},
   "source": [
    "#### Assumptions\n",
    "\n",
    "#### Randomness of samples\n",
    "Okay. This one was pretty pretty easy. We are acutally expecting to get a poor result back because the numbers are randomly generated\n",
    "\n",
    "#### Correlation\n",
    "\n",
    "Correlation below tells us that there is not a strong correlation among the different variables which is good.\n",
    "\n",
    "#### Homoscedasticity\n",
    "\n",
    "Graphically, I would say we passed the test. However, when applying the Goldfeld Quandt test, "
   ]
  },
  {
   "cell_type": "code",
   "execution_count": 17,
   "id": "fec521e0",
   "metadata": {},
   "outputs": [
    {
     "data": {
      "text/html": [
       "<div>\n",
       "<style scoped>\n",
       "    .dataframe tbody tr th:only-of-type {\n",
       "        vertical-align: middle;\n",
       "    }\n",
       "\n",
       "    .dataframe tbody tr th {\n",
       "        vertical-align: top;\n",
       "    }\n",
       "\n",
       "    .dataframe thead th {\n",
       "        text-align: right;\n",
       "    }\n",
       "</style>\n",
       "<table border=\"1\" class=\"dataframe\">\n",
       "  <thead>\n",
       "    <tr style=\"text-align: right;\">\n",
       "      <th></th>\n",
       "      <th>0</th>\n",
       "      <th>1</th>\n",
       "      <th>2</th>\n",
       "      <th>3</th>\n",
       "    </tr>\n",
       "  </thead>\n",
       "  <tbody>\n",
       "    <tr>\n",
       "      <th>0</th>\n",
       "      <td>1.000000</td>\n",
       "      <td>0.020645</td>\n",
       "      <td>0.129307</td>\n",
       "      <td>0.183729</td>\n",
       "    </tr>\n",
       "    <tr>\n",
       "      <th>1</th>\n",
       "      <td>0.020645</td>\n",
       "      <td>1.000000</td>\n",
       "      <td>0.010496</td>\n",
       "      <td>-0.099512</td>\n",
       "    </tr>\n",
       "    <tr>\n",
       "      <th>2</th>\n",
       "      <td>0.129307</td>\n",
       "      <td>0.010496</td>\n",
       "      <td>1.000000</td>\n",
       "      <td>-0.146503</td>\n",
       "    </tr>\n",
       "    <tr>\n",
       "      <th>3</th>\n",
       "      <td>0.183729</td>\n",
       "      <td>-0.099512</td>\n",
       "      <td>-0.146503</td>\n",
       "      <td>1.000000</td>\n",
       "    </tr>\n",
       "  </tbody>\n",
       "</table>\n",
       "</div>"
      ],
      "text/plain": [
       "          0         1         2         3\n",
       "0  1.000000  0.020645  0.129307  0.183729\n",
       "1  0.020645  1.000000  0.010496 -0.099512\n",
       "2  0.129307  0.010496  1.000000 -0.146503\n",
       "3  0.183729 -0.099512 -0.146503  1.000000"
      ]
     },
     "execution_count": 17,
     "metadata": {},
     "output_type": "execute_result"
    }
   ],
   "source": [
    "pd.DataFrame(data).corr()"
   ]
  },
  {
   "cell_type": "code",
   "execution_count": 37,
   "id": "6f83524f",
   "metadata": {},
   "outputs": [],
   "source": [
    "import statsmodels.stats.api as sms\n",
    "from statsmodels.compat import lzip"
   ]
  },
  {
   "cell_type": "code",
   "execution_count": 39,
   "id": "ecc8e851",
   "metadata": {},
   "outputs": [
    {
     "data": {
      "image/png": "[encoded data removed]",
      "text/plain": [
       "<Figure size 432x288 with 1 Axes>"
      ]
     },
     "metadata": {
      "needs_background": "light"
     },
     "output_type": "display_data"
    }
   ],
   "source": [
    "residuals = y_test -y_pred\n",
    "p = sns.scatterplot(y_pred,residuals)\n",
    "plt.xlabel('y_pred/predicted values')\n",
    "plt.ylabel('Residuals')\n",
    "plt.ylim(-1,1)\n",
    "plt.xlim(0,1)\n",
    "p = sns.lineplot([0,26],[0,0],color='blue')\n",
    "p = plt.title('Residuals vs fitted values plot for homoscedasticity check')"
   ]
  },
  {
   "cell_type": "code",
   "execution_count": 41,
   "id": "13bfc44d",
   "metadata": {},
   "outputs": [
    {
     "data": {
      "text/plain": [
       "[('F statistic', 0.7037844831450488), ('p-value', 0.6726894821042759)]"
      ]
     },
     "execution_count": 41,
     "metadata": {},
     "output_type": "execute_result"
    }
   ],
   "source": [
    "name = ['F statistic', 'p-value']\n",
    "test = sms.het_goldfeldquandt(residuals, X_test)\n",
    "lzip(name, test)"
   ]
  },
  {
   "cell_type": "code",
   "execution_count": null,
   "id": "ad9bc6d1",
   "metadata": {},
   "outputs": [],
   "source": []
  }
 ],
 "metadata": {
  "kernelspec": {
   "display_name": "Python 3 (ipykernel)",
   "language": "python",
   "name": "python3"
  },
  "language_info": {
   "codemirror_mode": {
    "name": "ipython",
    "version": 3
   },
   "file_extension": ".py",
   "mimetype": "text/x-python",
   "name": "python",
   "nbconvert_exporter": "python",
   "pygments_lexer": "ipython3",
   "version": "3.9.11"
  }
 },
 "nbformat": 4,
 "nbformat_minor": 5
}
